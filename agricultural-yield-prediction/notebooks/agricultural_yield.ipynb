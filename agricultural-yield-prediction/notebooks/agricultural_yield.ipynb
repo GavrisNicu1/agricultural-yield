{
    "cells": [
        {
            "cell_type": "markdown",
            "metadata": {
                "id": "b8ee9a20",
                "language": "markdown"
            },
            "source": [
                "# Yield Prediction with Model Training and Comparison",
                ""
            ]
        },
        {
            "cell_type": "markdown",
            "metadata": {
                "id": "f7cc59d8",
                "language": "markdown"
            },
            "source": [
                "## Introduction",
                "In this notebook, we will implement three algorithms for predicting agricultural yield, optimize their hyperparameters, compare their performance, and select the best model."
            ]
        },
        {
            "cell_type": "markdown",
            "metadata": {
                "id": "22e92df3",
                "language": "markdown"
            },
            "source": [
                "## Import Libraries"
            ]
        },
        {
            "cell_type": "code",
            "metadata": {
                "id": "f64b0726",
                "language": "python"
            },
            "source": [
                "import pandas as pd",
                "import numpy as np",
                "import seaborn as sns",
                "import matplotlib.pyplot as plt",
                "from sklearn.model_selection import train_test_split, GridSearchCV",
                "from sklearn.linear_model import LinearRegression, LogisticRegression",
                "from sklearn.metrics import mean_squared_error, accuracy_score, classification_report",
                "import joblib"
            ]
        },
        {
            "cell_type": "markdown",
            "metadata": {
                "id": "0c022e86",
                "language": "markdown"
            },
            "source": [
                "## Load Dataset"
            ]
        },
        {
            "cell_type": "code",
            "metadata": {
                "id": "7b404fc4",
                "language": "python"
            },
            "source": [
                "df = pd.read_csv('../data/crop_yield.csv')",
                "df.head()"
            ]
        },
        {
            "cell_type": "markdown",
            "metadata": {
                "id": "540a4a30",
                "language": "markdown"
            },
            "source": [
                "## Data Preprocessing"
            ]
        },
        {
            "cell_type": "code",
            "metadata": {
                "id": "2578c582",
                "language": "python"
            },
            "source": [
                "df.dropna(inplace=True)  # Drop missing values",
                "X = df.drop('yield', axis=1)  # Features",
                "y = df['yield']  # Target variable",
                "X_train, X_test, y_train, y_test = train_test_split(X, y, test_size=0.2, random_state=42)"
            ]
        },
        {
            "cell_type": "markdown",
            "metadata": {
                "id": "fa1b9f25",
                "language": "markdown"
            },
            "source": [
                "## Model Training"
            ]
        },
        {
            "cell_type": "code",
            "metadata": {
                "id": "5b5a89a6",
                "language": "python"
            },
            "source": [
                "linear_model = LinearRegression()",
                "linear_model.fit(X_train, y_train)",
                "y_pred_linear = linear_model.predict(X_test)",
                "mse_linear = mean_squared_error(y_test, y_pred_linear)",
                "print(f'Linear Regression MSE: {mse_linear}')"
            ]
        },
        {
            "cell_type": "code",
            "metadata": {
                "id": "5b5a89a6",
                "language": "python"
            },
            "source": [
                "logistic_model = LogisticRegression(max_iter=1000)",
                "logistic_model.fit(X_train, y_train)",
                "y_pred_logistic = logistic_model.predict(X_test)",
                "accuracy_logistic = accuracy_score(y_test, y_pred_logistic)",
                "print(f'Logistic Regression Accuracy: {accuracy_logistic}')"
            ]
        },
        {
            "cell_type": "markdown",
            "metadata": {
                "id": "01a971fc",
                "language": "markdown"
            },
            "source": [
                "## Hyperparameter Optimization"
            ]
        },
        {
            "cell_type": "code",
            "metadata": {
                "id": "a84a05e7",
                "language": "python"
            },
            "source": [
                "param_grid = {'C': [0.1, 1, 10], 'solver': ['liblinear', 'saga']}",
                "grid_search = GridSearchCV(LogisticRegression(max_iter=1000), param_grid, cv=5)",
                "grid_search.fit(X_train, y_train)",
                "print(f'Best parameters for Logistic Regression: {grid_search.best_params_}')"
            ]
        },
        {
            "cell_type": "markdown",
            "metadata": {
                "id": "9330dffa",
                "language": "markdown"
            },
            "source": [
                "## Model Comparison"
            ]
        },
        {
            "cell_type": "code",
            "metadata": {
                "id": "d114a673",
                "language": "python"
            },
            "source": [
                "results = {'Linear Regression MSE': mse_linear, 'Logistic Regression Accuracy': accuracy_logistic}",
                "results"
            ]
        },
        {
            "cell_type": "markdown",
            "metadata": {
                "id": "103204c1",
                "language": "markdown"
            },
            "source": [
                "## Conclusion",
                "Based on the results, we can determine which model performs better for predicting agricultural yield."
            ]
        }
    ]
}