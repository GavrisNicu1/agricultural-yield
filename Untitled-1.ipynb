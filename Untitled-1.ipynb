{
 "cells": [
  {
   "cell_type": "markdown",
   "id": "85ed319d",
   "metadata": {},
   "source": [
    "# Import Required Libraries\n",
    "Import libraries such as pandas, numpy, seaborn, matplotlib, and scikit-learn for data manipulation, visualization, and modeling."
   ]
  },
  {
   "cell_type": "code",
   "execution_count": null,
   "id": "5a8fe1f0",
   "metadata": {},
   "outputs": [],
   "source": [
    "# Import Required Libraries\n",
    "import pandas as pd\n",
    "import numpy as np\n",
    "import seaborn as sns\n",
    "import matplotlib.pyplot as plt\n",
    "from sklearn.model_selection import train_test_split\n",
    "from sklearn.linear_model import LinearRegression\n",
    "from sklearn.ensemble import RandomForestRegressor\n",
    "from sklearn.svm import SVR\n",
    "from sklearn.metrics import mean_squared_error, r2_score\n",
    "from sklearn.preprocessing import StandardScaler\n",
    "from sklearn.model_selection import RandomizedSearchCV, cross_val_score\n",
    "from math import sqrt"
   ]
  },
  {
   "cell_type": "markdown",
   "id": "a626affe",
   "metadata": {},
   "source": [
    "# Load and Explore Dataset\n",
    "Load the dataset using pandas, display the first few rows, and summarize the dataset to understand its structure and contents."
   ]
  },
  {
   "cell_type": "code",
   "execution_count": null,
   "id": "aa73c46d",
   "metadata": {},
   "outputs": [],
   "source": [
    "# Load and Explore Dataset\n",
    "df = pd.read_csv(\"crop_yield.csv\")\n",
    "print(\"First few rows of the dataset:\")\n",
    "print(df.head())\n",
    "print(\"\\nDataset summary:\")\n",
    "print(df.info())"
   ]
  },
  {
   "cell_type": "markdown",
   "id": "b6543e48",
   "metadata": {},
   "source": [
    "# Handle Missing and Duplicate Data\n",
    "Identify and handle missing values and duplicate rows in the dataset using pandas."
   ]
  }
 ],
 "metadata": {
  "kernelspec": {
   "display_name": "Python 3",
   "language": "python",
   "name": "python3"
  },
  "language_info": {
   "name": "python",
   "version": "3.13.2"
  }
 },
 "nbformat": 4,
 "nbformat_minor": 5
}
